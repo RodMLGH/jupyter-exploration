{
  "nbformat": 4,
  "nbformat_minor": 0,
  "metadata": {
    "colab": {
      "provenance": []
    },
    "kernelspec": {
      "name": "python3",
      "display_name": "Python 3"
    },
    "language_info": {
      "name": "python"
    }
  },
  "cells": [
    {
      "cell_type": "markdown",
      "source": [
        "# My first markdown cell in Jupyter."
      ],
      "metadata": {
        "id": "viYxWMI1JP7j"
      }
    },
    {
      "cell_type": "code",
      "source": [
        "print(\"Hello, World!\")\n",
        "print(\"This is my first cell (code) in Jupyter\")"
      ],
      "metadata": {
        "colab": {
          "base_uri": "https://localhost:8080/"
        },
        "id": "KEjelb9VJxi5",
        "outputId": "f6067f65-8828-4fa5-e454-d0c4fe92f947"
      },
      "execution_count": null,
      "outputs": [
        {
          "output_type": "stream",
          "name": "stdout",
          "text": [
            "Hello, World!\n",
            "This is my first cell (code) in Jupyter\n"
          ]
        }
      ]
    },
    {
      "cell_type": "code",
      "source": [],
      "metadata": {
        "id": "37fGQLaYKMrI"
      },
      "execution_count": null,
      "outputs": []
    }
  ]
}